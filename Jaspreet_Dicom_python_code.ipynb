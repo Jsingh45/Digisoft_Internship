{
 "cells": [
  {
   "cell_type": "code",
   "execution_count": 23,
   "metadata": {},
   "outputs": [],
   "source": [
    "import pydicom as dicom\n",
    "ttfm = dicom.dcmread(\"ttfm.dcm\") #reading dcm files\n",
    "bmode=dicom.dcmread(\"bmode.dcm\")"
   ]
  },
  {
   "cell_type": "code",
   "execution_count": 24,
   "metadata": {},
   "outputs": [
    {
     "data": {
      "text/plain": [
       "['AccessionNumber',\n",
       " 'BitsAllocated',\n",
       " 'BitsStored',\n",
       " 'CineRate',\n",
       " 'Columns',\n",
       " 'ContentDate',\n",
       " 'ContentTime',\n",
       " 'DeviceSerialNumber',\n",
       " 'EffectiveDuration',\n",
       " 'FrameIncrementPointer',\n",
       " 'FrameTime',\n",
       " 'HighBit',\n",
       " 'ImageComments',\n",
       " 'ImageType',\n",
       " 'InstanceNumber',\n",
       " 'InstitutionAddress',\n",
       " 'InstitutionName',\n",
       " 'Laterality',\n",
       " 'LossyImageCompression',\n",
       " 'Manufacturer',\n",
       " 'ManufacturerModelName',\n",
       " 'Modality',\n",
       " 'NumberOfFrames',\n",
       " 'PatientBirthDate',\n",
       " 'PatientComments',\n",
       " 'PatientID',\n",
       " 'PatientName',\n",
       " 'PatientOrientation',\n",
       " 'PatientSex',\n",
       " 'PatientSize',\n",
       " 'PatientWeight',\n",
       " 'PerformingPhysicianName',\n",
       " 'PhotometricInterpretation',\n",
       " 'PixelData',\n",
       " 'PixelRepresentation',\n",
       " 'PlanarConfiguration',\n",
       " 'PreferredPlaybackSequencing',\n",
       " 'RecommendedDisplayFrameRate',\n",
       " 'ReferringPhysicianName',\n",
       " 'Rows',\n",
       " 'SOPClassUID',\n",
       " 'SOPInstanceUID',\n",
       " 'SamplesPerPixel',\n",
       " 'SequenceOfUltrasoundRegions',\n",
       " 'SeriesDate',\n",
       " 'SeriesInstanceUID',\n",
       " 'SeriesNumber',\n",
       " 'SeriesTime',\n",
       " 'SoftwareVersions',\n",
       " 'SpecificCharacterSet',\n",
       " 'StationName',\n",
       " 'StudyDate',\n",
       " 'StudyDescription',\n",
       " 'StudyID',\n",
       " 'StudyInstanceUID',\n",
       " 'StudyTime']"
      ]
     },
     "execution_count": 24,
     "metadata": {},
     "output_type": "execute_result"
    }
   ],
   "source": [
    "tag_1=ttfm.dir() # Displaying tags of ttfm file\n",
    "tag_1"
   ]
  },
  {
   "cell_type": "code",
   "execution_count": 25,
   "metadata": {},
   "outputs": [
    {
     "data": {
      "text/plain": [
       "['AccessionNumber',\n",
       " 'BitsAllocated',\n",
       " 'BitsStored',\n",
       " 'CineRate',\n",
       " 'Columns',\n",
       " 'ContentDate',\n",
       " 'ContentTime',\n",
       " 'DeviceSerialNumber',\n",
       " 'EffectiveDuration',\n",
       " 'FrameIncrementPointer',\n",
       " 'FrameTime',\n",
       " 'HighBit',\n",
       " 'ImageComments',\n",
       " 'ImageType',\n",
       " 'InstanceNumber',\n",
       " 'InstitutionAddress',\n",
       " 'InstitutionName',\n",
       " 'Laterality',\n",
       " 'LossyImageCompression',\n",
       " 'Manufacturer',\n",
       " 'ManufacturerModelName',\n",
       " 'Modality',\n",
       " 'NumberOfFrames',\n",
       " 'PatientBirthDate',\n",
       " 'PatientComments',\n",
       " 'PatientID',\n",
       " 'PatientName',\n",
       " 'PatientOrientation',\n",
       " 'PatientSex',\n",
       " 'PatientSize',\n",
       " 'PatientWeight',\n",
       " 'PerformingPhysicianName',\n",
       " 'PhotometricInterpretation',\n",
       " 'PixelData',\n",
       " 'PixelRepresentation',\n",
       " 'PlanarConfiguration',\n",
       " 'PreferredPlaybackSequencing',\n",
       " 'RecommendedDisplayFrameRate',\n",
       " 'ReferringPhysicianName',\n",
       " 'Rows',\n",
       " 'SOPClassUID',\n",
       " 'SOPInstanceUID',\n",
       " 'SamplesPerPixel',\n",
       " 'SequenceOfUltrasoundRegions',\n",
       " 'SeriesDate',\n",
       " 'SeriesInstanceUID',\n",
       " 'SeriesNumber',\n",
       " 'SeriesTime',\n",
       " 'SoftwareVersions',\n",
       " 'SpecificCharacterSet',\n",
       " 'StationName',\n",
       " 'StudyDate',\n",
       " 'StudyDescription',\n",
       " 'StudyID',\n",
       " 'StudyInstanceUID',\n",
       " 'StudyTime']"
      ]
     },
     "execution_count": 25,
     "metadata": {},
     "output_type": "execute_result"
    }
   ],
   "source": [
    "tag_2=bmode.dir() #displaying tags of bmode file\n",
    "tag_2"
   ]
  },
  {
   "cell_type": "code",
   "execution_count": 26,
   "metadata": {},
   "outputs": [],
   "source": [
    "file_1=open(\"ttfm_output.txt\",\"w\")\n",
    "for r in tag_1:\n",
    "    file_1.write(r)\n",
    "    file_1.write(\"\\n\")\n",
    "file_1.close()"
   ]
  },
  {
   "cell_type": "code",
   "execution_count": 27,
   "metadata": {},
   "outputs": [],
   "source": [
    "file_2=open(\"bmode_output.txt\",\"w\")\n",
    "for x in tag_1:\n",
    "    file_2.write(x)\n",
    "    file_2.write(\"\\n\")\n",
    "file_2.close()"
   ]
  },
  {
   "cell_type": "code",
   "execution_count": null,
   "metadata": {},
   "outputs": [],
   "source": []
  },
  {
   "cell_type": "code",
   "execution_count": null,
   "metadata": {},
   "outputs": [],
   "source": []
  }
 ],
 "metadata": {
  "kernelspec": {
   "display_name": "Python 3",
   "language": "python",
   "name": "python3"
  },
  "language_info": {
   "codemirror_mode": {
    "name": "ipython",
    "version": 3
   },
   "file_extension": ".py",
   "mimetype": "text/x-python",
   "name": "python",
   "nbconvert_exporter": "python",
   "pygments_lexer": "ipython3",
   "version": "3.6.5"
  }
 },
 "nbformat": 4,
 "nbformat_minor": 2
}
